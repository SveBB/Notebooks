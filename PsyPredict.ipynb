{
 "cells": [
  {
   "cell_type": "code",
   "execution_count": 128,
   "metadata": {},
   "outputs": [],
   "source": [
    "import pandas as pd\n",
    "from datetime import datetime\n",
    "from datetime import date\n",
    "#Настройка вывода\n",
    "pd.options.display.max_columns = 100\n",
    "pd.options.display.max_rows = 100"
   ]
  },
  {
   "cell_type": "code",
   "execution_count": 141,
   "metadata": {},
   "outputs": [],
   "source": [
    "#Загрузка данных\n",
    "profiles = pd.read_csv(\"Profiles.csv\")\n",
    "results = pd.read_csv(\"Results.csv\")\n",
    "fields = pd.read_csv(\"fields1.csv\", sep=';')\n",
    "#Слияние данных + удаление данных по id\n",
    "data = profiles.merge(fields, on = 'id')\n",
    "results = results.rename({\"id_vk\": \"id\"}, axis='columns')\n",
    "data = data.merge(results, on = 'id', how = 'right').drop_duplicates(subset = ['id']).set_index('id')"
   ]
  },
  {
   "cell_type": "code",
   "execution_count": 142,
   "metadata": {},
   "outputs": [],
   "source": [
    "#Предобработка\n",
    "#Удаление заблокированных и забаненных пользователей\n",
    "data = data.loc[data.deactivated.isnull()].drop(labels='deactivated', axis = 1)\n",
    "#Удаление пользователей с закрытым профилем\n",
    "data = data[~data['is_closed'].isin([True])].drop(labels='is_closed', axis = 1)\n",
    "#Удаление лишних признаков\n",
    "status_audio = ['status_audio_artist','status_audio_id','status_audio_owner_id','status_audio_title','status_audio_duration',\n",
    "                'status_audio_url','status_audio_date','status_audio_is_hq','status_audio_main_artists','status_audio_short_videos_allowed',\n",
    "                'status_audio_stories_allowed','status_audio_is_explicit','status_audio_subtitle','status_audio_lyrics_id',\n",
    "                'status_audio_genre_id','status_audio_stories_cover_allowed']\n",
    "for_delete = ['id_moodle','дата','Unnamed: 6', 'дата.1','дата.2','friends_online_count',\n",
    "              'can_access_closed','domain','bdate','followers_count_x','false']\n",
    "data = data.drop(labels = status_audio, axis = 1)\n",
    "data = data.drop(labels = for_delete, axis = 1)"
   ]
  },
  {
   "cell_type": "code",
   "execution_count": 143,
   "metadata": {},
   "outputs": [
    {
     "name": "stderr",
     "output_type": "stream",
     "text": [
      "<ipython-input-143-2bcd0b2b7ad2>:24: SettingWithCopyWarning: \n",
      "A value is trying to be set on a copy of a slice from a DataFrame\n",
      "\n",
      "See the caveats in the documentation: https://pandas.pydata.org/pandas-docs/stable/user_guide/indexing.html#returning-a-view-versus-a-copy\n",
      "  data['university'][j] = 1\n",
      "<ipython-input-143-2bcd0b2b7ad2>:31: SettingWithCopyWarning: \n",
      "A value is trying to be set on a copy of a slice from a DataFrame\n",
      "\n",
      "See the caveats in the documentation: https://pandas.pydata.org/pandas-docs/stable/user_guide/indexing.html#returning-a-view-versus-a-copy\n",
      "  data['school'][j] = 1\n",
      "<ipython-input-143-2bcd0b2b7ad2>:38: SettingWithCopyWarning: \n",
      "A value is trying to be set on a copy of a slice from a DataFrame\n",
      "\n",
      "See the caveats in the documentation: https://pandas.pydata.org/pandas-docs/stable/user_guide/indexing.html#returning-a-view-versus-a-copy\n",
      "  data['career'][j] = 1\n"
     ]
    }
   ],
   "source": [
    "#Университет, школа, карьера\n",
    "data['university'] = 0\n",
    "data['school'] = 0\n",
    "data['career'] = 0\n",
    "\n",
    "university_list = ['universities_chair', 'universities_chair_name','universities_city','universities_country',\n",
    "                   'universities_education_form','universities_education_status','universities_faculty',\n",
    "                   'universities_faculty_name','universities_graduation','universities_id','universities_name']\n",
    "data[university_list] = data[university_list].fillna('0')\n",
    "\n",
    "school_list = ['schools_city','schools_country','schools_id','schools_name','schools_type','schools_type_str',\n",
    "               'schools_year_from','schools_year_graduated','schools_year_to','schools_speciality','schools_class']\n",
    "data[school_list] = data[school_list].fillna('0')\n",
    "\n",
    "career_list = ['career_city_id','career_country_id','career_group_id','career_company',\n",
    "               'career_from','career_position','career_until']\n",
    "data[career_list] = data[career_list].fillna('0')\n",
    "\n",
    "\n",
    "\n",
    "for i in university_list:\n",
    "    for j in data.index:\n",
    "        if data[i][j] != '0':\n",
    "            data['university'][j] = 1\n",
    "            \n",
    "data = data.drop(labels= university_list, axis = 1)\n",
    "\n",
    "for i in school_list:\n",
    "    for j in data.index:\n",
    "        if data[i][j] != '0':\n",
    "            data['school'][j] = 1\n",
    "            \n",
    "data = data.drop(labels= school_list, axis = 1)\n",
    "\n",
    "for i in career_list:\n",
    "    for j in data.index:\n",
    "        if data[i][j] != '0':\n",
    "            data['career'][j] = 1\n",
    "            \n",
    "data = data.drop(labels= career_list, axis = 1)"
   ]
  },
  {
   "cell_type": "code",
   "execution_count": 144,
   "metadata": {},
   "outputs": [
    {
     "name": "stderr",
     "output_type": "stream",
     "text": [
      "<ipython-input-144-3483dbcc2c38>:15: SettingWithCopyWarning: \n",
      "A value is trying to be set on a copy of a slice from a DataFrame\n",
      "\n",
      "See the caveats in the documentation: https://pandas.pydata.org/pandas-docs/stable/user_guide/indexing.html#returning-a-view-versus-a-copy\n",
      "  data['profile_fulness'][j] += 1\n",
      "<ipython-input-144-3483dbcc2c38>:18: SettingWithCopyWarning: \n",
      "A value is trying to be set on a copy of a slice from a DataFrame\n",
      "\n",
      "See the caveats in the documentation: https://pandas.pydata.org/pandas-docs/stable/user_guide/indexing.html#returning-a-view-versus-a-copy\n",
      "  data['profile_fulness'][i] = data['profile_fulness'][i]/len(fullness_profile_list)*100\n"
     ]
    }
   ],
   "source": [
    "#Заполненность профиля\n",
    "fullness_profile_list = ['skype','mobile_phone','maiden_name','instagram','site','quotes','relation','personal_people_main',\n",
    "                         'home_town','personal_alcohol','personal_langs','personal_political','personal_religion',\n",
    "                         'personal_smoking','relatives_type','relatives_id','nickname','activities',\n",
    "                         'personal_inspired_by','personal_life_main','books','tv','about','movies','music','home_phone',\n",
    "                         'relation_partner_first_name','relation_partner_id','relation_partner_last_name','personal_religion_id',\n",
    "                         'relatives_name','games','twitter','facebook','facebook_name']\n",
    "data['profile_fulness'] = 0\n",
    "data['profile_fulness'] = data['profile_fulness'].astype('float64')\n",
    "data[fullness_profile_list] = data[fullness_profile_list].fillna('0')\n",
    "\n",
    "for i in fullness_profile_list:\n",
    "    for j in data.index:\n",
    "        if data[i][j] != '0':\n",
    "            data['profile_fulness'][j] += 1\n",
    "           \n",
    "for i in data.index:\n",
    "    data['profile_fulness'][i] = data['profile_fulness'][i]/len(fullness_profile_list)*100\n",
    "            \n",
    "data = data.drop(labels= fullness_profile_list, axis = 1)"
   ]
  },
  {
   "cell_type": "code",
   "execution_count": 145,
   "metadata": {},
   "outputs": [
    {
     "name": "stderr",
     "output_type": "stream",
     "text": [
      "<ipython-input-145-386086c12e81>:9: SettingWithCopyWarning: \n",
      "A value is trying to be set on a copy of a slice from a DataFrame\n",
      "\n",
      "See the caveats in the documentation: https://pandas.pydata.org/pandas-docs/stable/user_guide/indexing.html#returning-a-view-versus-a-copy\n",
      "  data.age[i] = age\n"
     ]
    }
   ],
   "source": [
    "#Обработка возраста\n",
    "data = data.rename({\"bdate_1c\": \"age\"}, axis='columns')\n",
    "data.age = data.age.fillna('0')\n",
    "for i in data.index:\n",
    "    if data.age[i] != '0':\n",
    "        born = datetime.strptime(data.age[i][:10], '%Y-%m-%d').date()\n",
    "        today = date.today()\n",
    "        age = today.year - born.year - ((today.month, today.day) < (born.month, born.day))\n",
    "        data.age[i] = age\n",
    "\n",
    "data.age = pd.to_numeric(data['age'])"
   ]
  },
  {
   "cell_type": "code",
   "execution_count": 146,
   "metadata": {},
   "outputs": [
    {
     "name": "stderr",
     "output_type": "stream",
     "text": [
      "<ipython-input-146-fff6916afb6c>:13: SettingWithCopyWarning: \n",
      "A value is trying to be set on a copy of a slice from a DataFrame\n",
      "\n",
      "See the caveats in the documentation: https://pandas.pydata.org/pandas-docs/stable/user_guide/indexing.html#returning-a-view-versus-a-copy\n",
      "  data['подразделение 1'][i] = '2'\n",
      "<ipython-input-146-fff6916afb6c>:11: SettingWithCopyWarning: \n",
      "A value is trying to be set on a copy of a slice from a DataFrame\n",
      "\n",
      "See the caveats in the documentation: https://pandas.pydata.org/pandas-docs/stable/user_guide/indexing.html#returning-a-view-versus-a-copy\n",
      "  data['подразделение 1'][i] = '1'\n",
      "<ipython-input-146-fff6916afb6c>:15: SettingWithCopyWarning: \n",
      "A value is trying to be set on a copy of a slice from a DataFrame\n",
      "\n",
      "See the caveats in the documentation: https://pandas.pydata.org/pandas-docs/stable/user_guide/indexing.html#returning-a-view-versus-a-copy\n",
      "  data['подразделение 1'][i] = '3'\n",
      "<ipython-input-146-fff6916afb6c>:19: SettingWithCopyWarning: \n",
      "A value is trying to be set on a copy of a slice from a DataFrame\n",
      "\n",
      "See the caveats in the documentation: https://pandas.pydata.org/pandas-docs/stable/user_guide/indexing.html#returning-a-view-versus-a-copy\n",
      "  data['подразделение 1'][i] = '0'\n",
      "<ipython-input-146-fff6916afb6c>:17: SettingWithCopyWarning: \n",
      "A value is trying to be set on a copy of a slice from a DataFrame\n",
      "\n",
      "See the caveats in the documentation: https://pandas.pydata.org/pandas-docs/stable/user_guide/indexing.html#returning-a-view-versus-a-copy\n",
      "  data['подразделение 1'][i] = '4'\n"
     ]
    }
   ],
   "source": [
    "#Факультеты(Флф?)apply, lambda\n",
    "data['подразделение 1'] = data['подразделение 1'].fillna('0')\n",
    "technical = ['ММФ','ФТФ','ФИТ','ИПМиКН','РФФ','ИПМКН','HITS','ФтФ']\n",
    "humanitarian = ['ФП','ИЭМ','САЕ ИЧЦЭ','НЮИ', 'ФсФ', 'ЮИ','ИИК','ФИПН''ФлФ', 'ФИЯ','ФЖ','ФилФ','ФФ','ФлФ',\n",
    "                'САЕ ЦИТСНУ','ФСФ','ФЛФ','Управление информационной политики','кафедра истории философии','ФИПН']\n",
    "natural = ['БИ','ХФ','САЕ ИУМТ','ФФК','ГГФ','САЕ ИБМ']\n",
    "\n",
    "for i in data.index:\n",
    "    if data['подразделение 1'][i] != 0:\n",
    "        if data['подразделение 1'][i] in technical: \n",
    "            data['подразделение 1'][i] = '1'\n",
    "        if data['подразделение 1'][i] in humanitarian: \n",
    "            data['подразделение 1'][i] = '2'\n",
    "        if data['подразделение 1'][i] in natural: \n",
    "            data['подразделение 1'][i] = '3'\n",
    "        if data['подразделение 1'][i] == 'ИВО':\n",
    "            data['подразделение 1'][i] = '4'\n",
    "        if data['подразделение 1'][i] == 'не ТГУ':\n",
    "            data['подразделение 1'][i] = '0'\n",
    "data['подразделение 1'] = pd.to_numeric(data['подразделение 1'])\n",
    "data = data.rename({\"подразделение 1\": \"subdivision\"}, axis='columns')"
   ]
  },
  {
   "cell_type": "code",
   "execution_count": 147,
   "metadata": {},
   "outputs": [
    {
     "name": "stderr",
     "output_type": "stream",
     "text": [
      "<ipython-input-147-44a9234a665d>:5: SettingWithCopyWarning: \n",
      "A value is trying to be set on a copy of a slice from a DataFrame\n",
      "\n",
      "See the caveats in the documentation: https://pandas.pydata.org/pandas-docs/stable/user_guide/indexing.html#returning-a-view-versus-a-copy\n",
      "  data['status'][i] = '1'\n"
     ]
    }
   ],
   "source": [
    "#Наличие статуса\n",
    "data['status'] = data['status'].fillna('0')\n",
    "for i in data.index:\n",
    "    if data['status'][i] != '0':\n",
    "        data['status'][i] = '1'\n",
    "data['status'] = pd.to_numeric(data['status'])"
   ]
  },
  {
   "cell_type": "code",
   "execution_count": 148,
   "metadata": {},
   "outputs": [],
   "source": [
    "#Города и страны, вопрос\n",
    "data = data.drop(labels = ['city_id',\n",
    " 'city_title',\n",
    " 'country_id',\n",
    " 'country_title'], axis = 1)"
   ]
  },
  {
   "cell_type": "code",
   "execution_count": 149,
   "metadata": {},
   "outputs": [],
   "source": [
    "#Категоризация и заполнить пропуски\n",
    "#is_closed как признак(возможно),пол, возраст(в results), pd.dummies, multibinarizer, open в %(),\n",
    "#Статус, работа, образвание.\n",
    "#Результаты в CATEGORIALz, crossvalscore обучающая(80%), тест(10%), валидационная(10%, GrideSearchCV, подбор параметров)\n",
    "#Выделить признаки\n",
    "#Пол, возраст(категариальные), наличие фото, наличие друзей,альбомы,(распределение по перецентиялм разные %)\n",
    "#и другие количественные данные, "
   ]
  },
  {
   "cell_type": "code",
   "execution_count": 150,
   "metadata": {},
   "outputs": [],
   "source": [
    "data.albums_count = data.albums_count.fillna(data.albums_count.mean())\n",
    "data.photos_count = data.photos_count.fillna(data.photos_count.mean())\n",
    "data.friends_count = data.friends_count.fillna(data.friends_count.mean())\n",
    "data.groups_count = data.groups_count.fillna(data.groups_count.mean())\n",
    "data.followers_count_y = data.followers_count_y.fillna(data.followers_count_y.mean())\n",
    "data.subscriptions_count = data.subscriptions_count.fillna(data.subscriptions_count.mean())\n",
    "data = pd.get_dummies(data, columns=['subdivision']).drop(labels = 'subdivision_0', axis =1)"
   ]
  },
  {
   "cell_type": "code",
   "execution_count": 151,
   "metadata": {},
   "outputs": [],
   "source": [
    "l1 = ['Экстраверсия',\n",
    " 'Сознательность',\n",
    " 'Доброжелательность',\n",
    " 'Эмоциональная устойчивость',\n",
    " 'Открытость опыту','false.1',\n",
    " 'false.2']\n",
    "l2 = ['Подавленность',\n",
    " 'Тревожность',\n",
    " 'Стресс',\n",
    " 'false.1','false.2']\n",
    "data['false.1'] = data['false.1'].fillna('1')\n",
    "data['false.2'] = data['false.2'].fillna('1')\n",
    "data1 = data[~data['false.1'].isin(['1'])].drop(labels=l1, axis = 1)\n",
    "data2 = data[~data['false.2'].isin(['1'])].drop(labels=l2, axis = 1)"
   ]
  },
  {
   "cell_type": "code",
   "execution_count": 152,
   "metadata": {},
   "outputs": [
    {
     "data": {
      "text/plain": [
       "Index(['sex', 'status', 'albums_count', 'photos_count', 'friends_count',\n",
       "       'groups_count', 'followers_count_y', 'subscriptions_count',\n",
       "       'Подавленность', 'Тревожность', 'Стресс', 'age', 'university', 'school',\n",
       "       'career', 'profile_fulness', 'subdivision_1', 'subdivision_2',\n",
       "       'subdivision_3', 'subdivision_4'],\n",
       "      dtype='object')"
      ]
     },
     "execution_count": 152,
     "metadata": {},
     "output_type": "execute_result"
    }
   ],
   "source": [
    "data1.columns"
   ]
  },
  {
   "cell_type": "code",
   "execution_count": 153,
   "metadata": {},
   "outputs": [],
   "source": [
    "#1\n",
    "data1['Подавленность1'] = data1['Подавленность'].apply(lambda x: 1 if x > 6 else 0)\n",
    "data1['Тревожность1'] = data1['Тревожность'].apply(lambda x: 1 if x > 4 else 0)\n",
    "data1['Стресс1'] = data1['Стресс'].apply(lambda x: 1 if x > 9 else 0)\n",
    "#2\n",
    "data1.loc[data1['Подавленность'] < 3, 'Подавленность2'] = 0\n",
    "data1.loc[(data1['Подавленность'] >= 3) & (data1['Подавленность'] < 12), 'Подавленность2'] = 1\n",
    "data1.loc[data1['Подавленность'] >= 12, 'Подавленность2'] = 2\n",
    "\n",
    "data1.loc[data1['Тревожность'] < 1, 'Тревожность2'] = 0\n",
    "data1.loc[(data1['Тревожность'] >= 1) & (data1['Тревожность'] < 8), 'Тревожность2'] = 1\n",
    "data1.loc[data1['Тревожность'] >= 8, 'Тревожность2'] = 2\n",
    "\n",
    "data1.loc[data1['Стресс'] < 5, 'Стресс2'] = 0\n",
    "data1.loc[(data1['Стресс'] >= 5) & (data1['Стресс'] < 13), 'Стресс2'] = 1\n",
    "data1.loc[data1['Стресс'] >= 13, 'Стресс2'] = 2\n",
    "#3\n",
    "data1['Подавленность3'] = data1['Подавленность'].apply(lambda x: 1 if x > 12 else 0)\n",
    "data1['Тревожность3'] = data1['Тревожность'].apply(lambda x: 1 if x > 8 else 0)\n",
    "data1['Стресс3'] = data1['Стресс'].apply(lambda x: 1 if x > 13 else 0)"
   ]
  },
  {
   "cell_type": "code",
   "execution_count": 154,
   "metadata": {},
   "outputs": [
    {
     "name": "stderr",
     "output_type": "stream",
     "text": [
      "c:\\users\\svebb\\appdata\\local\\programs\\python\\python38-32\\lib\\site-packages\\sklearn\\linear_model\\_stochastic_gradient.py:570: ConvergenceWarning: Maximum number of iteration reached before convergence. Consider increasing max_iter to improve the fit.\n",
      "  warnings.warn(\"Maximum number of iteration reached before \"\n",
      "c:\\users\\svebb\\appdata\\local\\programs\\python\\python38-32\\lib\\site-packages\\sklearn\\linear_model\\_stochastic_gradient.py:570: ConvergenceWarning: Maximum number of iteration reached before convergence. Consider increasing max_iter to improve the fit.\n",
      "  warnings.warn(\"Maximum number of iteration reached before \"\n",
      "c:\\users\\svebb\\appdata\\local\\programs\\python\\python38-32\\lib\\site-packages\\sklearn\\linear_model\\_stochastic_gradient.py:570: ConvergenceWarning: Maximum number of iteration reached before convergence. Consider increasing max_iter to improve the fit.\n",
      "  warnings.warn(\"Maximum number of iteration reached before \"\n",
      "c:\\users\\svebb\\appdata\\local\\programs\\python\\python38-32\\lib\\site-packages\\sklearn\\linear_model\\_stochastic_gradient.py:570: ConvergenceWarning: Maximum number of iteration reached before convergence. Consider increasing max_iter to improve the fit.\n",
      "  warnings.warn(\"Maximum number of iteration reached before \"\n",
      "c:\\users\\svebb\\appdata\\local\\programs\\python\\python38-32\\lib\\site-packages\\sklearn\\linear_model\\_stochastic_gradient.py:570: ConvergenceWarning: Maximum number of iteration reached before convergence. Consider increasing max_iter to improve the fit.\n",
      "  warnings.warn(\"Maximum number of iteration reached before \"\n",
      "c:\\users\\svebb\\appdata\\local\\programs\\python\\python38-32\\lib\\site-packages\\sklearn\\linear_model\\_stochastic_gradient.py:570: ConvergenceWarning: Maximum number of iteration reached before convergence. Consider increasing max_iter to improve the fit.\n",
      "  warnings.warn(\"Maximum number of iteration reached before \"\n"
     ]
    }
   ],
   "source": [
    "from sklearn.model_selection import train_test_split\n",
    "from sklearn.linear_model import SGDClassifier\n",
    "from sklearn.model_selection import GridSearchCV\n",
    "from sklearn.metrics import precision_score, recall_score\n",
    "from sklearn.metrics import f1_score\n",
    "\n",
    "target_var_list_needed = ['Подавленность1', 'Подавленность2', 'Подавленность3', \n",
    "                   'Тревожность1', 'Тревожность2', 'Тревожность3', \n",
    "                   'Стресс1', 'Стресс2', 'Стресс3']\n",
    "\n",
    "\n",
    "target_var_list = ['Подавленность1', 'Подавленность3', \n",
    "                   'Тревожность1', 'Тревожность3', \n",
    "                   'Стресс1', 'Стресс3']\n",
    "\n",
    "X = data1[['sex', 'status', 'albums_count', 'photos_count', 'friends_count',\n",
    "       'groups_count', 'followers_count_y', 'subscriptions_count',\n",
    "       'Подавленность', 'Тревожность', 'Стресс', 'age', 'university', 'school',\n",
    "       'career', 'profile_fulness', 'subdivision_1', 'subdivision_2',\n",
    "       'subdivision_3', 'subdivision_4']]\n",
    "\n",
    "result_matrix = []\n",
    "\n",
    "for feature in target_var_list:\n",
    "    y = data1[feature]\n",
    "\n",
    "    X_train, X_testval, y_train, y_testval = train_test_split(X, y, test_size=0.2, random_state=42)\n",
    "    X_val, X_test, y_val, y_test = train_test_split(X_testval, y_testval, test_size=0.5, random_state=10)\n",
    "\n",
    "    parameters = {'loss':('hinge', 'log', 'modified_huber', 'squared_hinge', 'perceptron'),\n",
    "              'penalty':('l2', 'l1', 'elasticnet'),\n",
    "              'alpha':[0.0001, 0.001, 0.01],\n",
    "              'max_iter':[500, 1000, 1200]}\n",
    "        \n",
    "    #CrossVal\n",
    "    clf = SGDClassifier()\n",
    "    grid = GridSearchCV(clf, parameters, scoring = 'f1_weighted', cv = 5)\n",
    "    grid = grid.fit(X_val, y_val)\n",
    "\n",
    "    #Model\n",
    "    model = SGDClassifier(**grid.best_params_)\n",
    "    fit_model = model.fit(X_train, y_train)\n",
    "    y_pred = fit_model.predict(X_test)\n",
    "    f1 = f1_score(y_test, y_pred)\n",
    "    precision = precision_score(y_test, y_pred)\n",
    "    recall = recall_score(y_test, y_pred)\n",
    "        \n",
    "    result = [f1, precision, recall]\n",
    "        \n",
    "    result_matrix.append(result)"
   ]
  },
  {
   "cell_type": "code",
   "execution_count": 155,
   "metadata": {},
   "outputs": [
    {
     "data": {
      "text/plain": [
       "[[0.8398576512455517, 0.7814569536423841, 0.9076923076923077],\n",
       " [0.7049180327868853, 0.6323529411764706, 0.7962962962962963],\n",
       " [0.8189655172413793, 0.8260869565217391, 0.811965811965812],\n",
       " [0.6428571428571429, 0.5844155844155844, 0.7142857142857143],\n",
       " [0.8034934497816594, 0.7666666666666667, 0.8440366972477065],\n",
       " [0.6787878787878788, 0.5490196078431373, 0.8888888888888888]]"
      ]
     },
     "execution_count": 155,
     "metadata": {},
     "output_type": "execute_result"
    }
   ],
   "source": [
    "result_matrix"
   ]
  },
  {
   "cell_type": "code",
   "execution_count": null,
   "metadata": {},
   "outputs": [],
   "source": []
  }
 ],
 "metadata": {
  "kernelspec": {
   "display_name": "Python 3",
   "language": "python",
   "name": "python3"
  },
  "language_info": {
   "codemirror_mode": {
    "name": "ipython",
    "version": 3
   },
   "file_extension": ".py",
   "mimetype": "text/x-python",
   "name": "python",
   "nbconvert_exporter": "python",
   "pygments_lexer": "ipython3",
   "version": "3.8.6"
  }
 },
 "nbformat": 4,
 "nbformat_minor": 4
}
